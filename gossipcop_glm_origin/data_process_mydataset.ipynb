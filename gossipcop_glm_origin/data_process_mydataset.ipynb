{
 "cells": [
  {
   "cell_type": "code",
   "metadata": {
    "ExecuteTime": {
     "end_time": "2024-07-26T03:06:56.850105Z",
     "start_time": "2024-07-26T03:06:56.154617Z"
    }
   },
   "source": [
    "import pandas as pd\n",
    "import numpy as np\n",
    "import json \n",
    "import os\n",
    "import torch"
   ],
   "outputs": [],
   "execution_count": 3
  },
  {
   "cell_type": "code",
   "metadata": {
    "ExecuteTime": {
     "end_time": "2024-07-25T08:46:01.078820Z",
     "start_time": "2024-07-25T08:45:58.431148Z"
    }
   },
   "source": [
    "print(os.getcwd())\n",
    "style_fake_data = pd.read_json(\"./gossipcop_v3_keep_data_in_proper_length.json\",orient='index')\n",
    "type(style_fake_data[:20].index)"
   ],
   "outputs": [
    {
     "name": "stdout",
     "output_type": "stream",
     "text": [
      "/mnt/c/Users/1/PycharmProjects/CSFND_yanjie/gossipcop_dataset\n"
     ]
    },
    {
     "data": {
      "text/plain": [
       "pandas.core.indexes.base.Index"
      ]
     },
     "execution_count": 21,
     "metadata": {},
     "output_type": "execute_result"
    }
   ],
   "execution_count": 21
  },
  {
   "cell_type": "code",
   "metadata": {
    "ExecuteTime": {
     "end_time": "2024-07-25T07:37:23.456357Z",
     "start_time": "2024-07-25T07:37:23.396634Z"
    }
   },
   "source": "style_fake_data[style_fake_data.label=='fake'].count()[0], style_fake_data[style_fake_data.label=='real'].count()[0]",
   "outputs": [
    {
     "name": "stderr",
     "output_type": "stream",
     "text": [
      "/tmp/ipykernel_28582/274957224.py:1: FutureWarning: Series.__getitem__ treating keys as positions is deprecated. In a future version, integer keys will always be treated as labels (consistent with DataFrame behavior). To access a value by position, use `ser.iloc[pos]`\n",
      "  style_fake_data[style_fake_data.label=='fake'].count()[0], style_fake_data[style_fake_data.label=='real'].count()[0]\n",
      "/tmp/ipykernel_28582/274957224.py:1: FutureWarning: Series.__getitem__ treating keys as positions is deprecated. In a future version, integer keys will always be treated as labels (consistent with DataFrame behavior). To access a value by position, use `ser.iloc[pos]`\n",
      "  style_fake_data[style_fake_data.label=='fake'].count()[0], style_fake_data[style_fake_data.label=='real'].count()[0]\n"
     ]
    },
    {
     "data": {
      "text/plain": [
       "(3784, 11945)"
      ]
     },
     "execution_count": 14,
     "metadata": {},
     "output_type": "execute_result"
    }
   ],
   "execution_count": 14
  },
  {
   "cell_type": "code",
   "metadata": {
    "ExecuteTime": {
     "end_time": "2024-07-25T08:25:22.543272Z",
     "start_time": "2024-07-25T08:25:19.097088Z"
    }
   },
   "source": [
    "def get_all_top_image_id(image_dir_path):\n",
    "    suffix_to_remove = '_top_img.png'\n",
    "    all_items  = os.listdir(image_dir_path)\n",
    "    top_image_ids = {item.rstrip(suffix_to_remove) for item in all_items if os.path.isfile(os.path.join(image_dir_path, item)) and item.endswith(suffix_to_remove)}\n",
    "    return top_image_ids\n",
    "\n",
    "def filter_data(data,image_dir_path):\n",
    "    top_image_ids = get_all_top_image_id(image_dir_path)\n",
    "    print(len(top_image_ids))\n",
    "    has_top_img_list = [id in top_image_ids for id in data.id]\n",
    "    return data[has_top_img_list]\n",
    "    \n",
    "filter_data = filter_data(style_fake_data,'top_img')\n",
    "# 2.只保留ID  文本内容 标签\n",
    "keep_features = [\"id\",\"text\",\"label\"]\n",
    "keep_data = filter_data[keep_features]\n",
    "\n"
   ],
   "outputs": [
    {
     "name": "stdout",
     "output_type": "stream",
     "text": [
      "4699\n"
     ]
    },
    {
     "data": {
      "text/plain": [
       "                                        id  \\\n",
       "gossipcop-941805037    gossipcop-941805037   \n",
       "gossipcop-9588339534  gossipcop-9588339534   \n",
       "gossipcop-9878194459  gossipcop-9878194459   \n",
       "gossipcop-9521617242  gossipcop-9521617242   \n",
       "gossipcop-8996311550  gossipcop-8996311550   \n",
       "...                                    ...   \n",
       "gossipcop-899716          gossipcop-899716   \n",
       "gossipcop-910016          gossipcop-910016   \n",
       "gossipcop-907293          gossipcop-907293   \n",
       "gossipcop-941486          gossipcop-941486   \n",
       "gossipcop-953143          gossipcop-953143   \n",
       "\n",
       "                                                                   text label  \n",
       "gossipcop-941805037   Thousands are taking the streets to protest Pr...  fake  \n",
       "gossipcop-9588339534  Many stars saw great success in 2016, but the ...  fake  \n",
       "gossipcop-9878194459  So while the internet is busy obsessing over J...  fake  \n",
       "gossipcop-9521617242  Next stop on the 2018 award season train? The ...  fake  \n",
       "gossipcop-8996311550  A new survey conducted by the British Heart Fo...  fake  \n",
       "...                                                                 ...   ...  \n",
       "gossipcop-899716      Maeve McDermott\\n\\nUSA TODAY\\n\\nJada Pinkett S...  real  \n",
       "gossipcop-910016      TechCrunch\\n\\nOmidyar Network, backed by eBay ...  real  \n",
       "gossipcop-907293      Gigi & Zayn Gave Us the Best Idea For a Valent...  real  \n",
       "gossipcop-941486      Jada Pinkett Smith recalled that heartbreaking...  real  \n",
       "gossipcop-953143      Another one of Luann de Lesseps' Real Housewiv...  real  \n",
       "\n",
       "[4699 rows x 3 columns]"
      ],
      "text/html": [
       "<div>\n",
       "<style scoped>\n",
       "    .dataframe tbody tr th:only-of-type {\n",
       "        vertical-align: middle;\n",
       "    }\n",
       "\n",
       "    .dataframe tbody tr th {\n",
       "        vertical-align: top;\n",
       "    }\n",
       "\n",
       "    .dataframe thead th {\n",
       "        text-align: right;\n",
       "    }\n",
       "</style>\n",
       "<table border=\"1\" class=\"dataframe\">\n",
       "  <thead>\n",
       "    <tr style=\"text-align: right;\">\n",
       "      <th></th>\n",
       "      <th>id</th>\n",
       "      <th>text</th>\n",
       "      <th>label</th>\n",
       "    </tr>\n",
       "  </thead>\n",
       "  <tbody>\n",
       "    <tr>\n",
       "      <th>gossipcop-941805037</th>\n",
       "      <td>gossipcop-941805037</td>\n",
       "      <td>Thousands are taking the streets to protest Pr...</td>\n",
       "      <td>fake</td>\n",
       "    </tr>\n",
       "    <tr>\n",
       "      <th>gossipcop-9588339534</th>\n",
       "      <td>gossipcop-9588339534</td>\n",
       "      <td>Many stars saw great success in 2016, but the ...</td>\n",
       "      <td>fake</td>\n",
       "    </tr>\n",
       "    <tr>\n",
       "      <th>gossipcop-9878194459</th>\n",
       "      <td>gossipcop-9878194459</td>\n",
       "      <td>So while the internet is busy obsessing over J...</td>\n",
       "      <td>fake</td>\n",
       "    </tr>\n",
       "    <tr>\n",
       "      <th>gossipcop-9521617242</th>\n",
       "      <td>gossipcop-9521617242</td>\n",
       "      <td>Next stop on the 2018 award season train? The ...</td>\n",
       "      <td>fake</td>\n",
       "    </tr>\n",
       "    <tr>\n",
       "      <th>gossipcop-8996311550</th>\n",
       "      <td>gossipcop-8996311550</td>\n",
       "      <td>A new survey conducted by the British Heart Fo...</td>\n",
       "      <td>fake</td>\n",
       "    </tr>\n",
       "    <tr>\n",
       "      <th>...</th>\n",
       "      <td>...</td>\n",
       "      <td>...</td>\n",
       "      <td>...</td>\n",
       "    </tr>\n",
       "    <tr>\n",
       "      <th>gossipcop-899716</th>\n",
       "      <td>gossipcop-899716</td>\n",
       "      <td>Maeve McDermott\\n\\nUSA TODAY\\n\\nJada Pinkett S...</td>\n",
       "      <td>real</td>\n",
       "    </tr>\n",
       "    <tr>\n",
       "      <th>gossipcop-910016</th>\n",
       "      <td>gossipcop-910016</td>\n",
       "      <td>TechCrunch\\n\\nOmidyar Network, backed by eBay ...</td>\n",
       "      <td>real</td>\n",
       "    </tr>\n",
       "    <tr>\n",
       "      <th>gossipcop-907293</th>\n",
       "      <td>gossipcop-907293</td>\n",
       "      <td>Gigi &amp; Zayn Gave Us the Best Idea For a Valent...</td>\n",
       "      <td>real</td>\n",
       "    </tr>\n",
       "    <tr>\n",
       "      <th>gossipcop-941486</th>\n",
       "      <td>gossipcop-941486</td>\n",
       "      <td>Jada Pinkett Smith recalled that heartbreaking...</td>\n",
       "      <td>real</td>\n",
       "    </tr>\n",
       "    <tr>\n",
       "      <th>gossipcop-953143</th>\n",
       "      <td>gossipcop-953143</td>\n",
       "      <td>Another one of Luann de Lesseps' Real Housewiv...</td>\n",
       "      <td>real</td>\n",
       "    </tr>\n",
       "  </tbody>\n",
       "</table>\n",
       "<p>4699 rows × 3 columns</p>\n",
       "</div>"
      ]
     },
     "execution_count": 16,
     "metadata": {},
     "output_type": "execute_result"
    }
   ],
   "execution_count": 16
  },
  {
   "cell_type": "code",
   "metadata": {
    "ExecuteTime": {
     "end_time": "2024-07-25T08:25:49.648270Z",
     "start_time": "2024-07-25T08:25:49.641397Z"
    }
   },
   "source": "keep_data.text.map(lambda x: len(x)).mean()",
   "outputs": [
    {
     "data": {
      "text/plain": [
       "2434.691423707172"
      ]
     },
     "execution_count": 19,
     "metadata": {},
     "output_type": "execute_result"
    }
   ],
   "execution_count": 19
  },
  {
   "cell_type": "code",
   "metadata": {
    "ExecuteTime": {
     "end_time": "2024-07-25T08:57:59.698865Z",
     "start_time": "2024-07-25T08:57:59.679229Z"
    }
   },
   "source": [
    "def split_data(data):\n",
    "    # 3. 保存到文件中，文本和图像一一对应。\n",
    "    # 划分训练和测试数据集，要求训练集和测试集中的正负类的分布差不多，\n",
    "    # 其中 文本 ID 和图像ID一致，也对应上文本的存储位置。\n",
    "    df_shuffled = data.sample(frac=1.0, random_state=42)\n",
    "    \n",
    "    # 计算训练集和测试集的数量\n",
    "    num_train_samples = 80\n",
    "    num_val_samples = 80\n",
    "    num_test_samples = len(df_shuffled) - 160\n",
    "    \n",
    "    \n",
    "    # 分割数据集\n",
    "    \n",
    "    train_set = df_shuffled.iloc[:num_train_samples]\n",
    "    val_set = df_shuffled.iloc[num_train_samples:num_train_samples + num_val_samples]\n",
    "    test_set = df_shuffled.iloc[num_train_samples + num_val_samples:]\n",
    "    return train_set, val_set, test_set\n",
    "\n",
    "\n",
    "data_real_news = keep_data[keep_data.label=='real']\n",
    "data_fake_news = keep_data[keep_data.label=='fake']\n",
    "real_train_data ,real_val_data ,real_test_data = split_data(data_real_news)\n",
    "fake_train_data ,fake_val_data ,fake_test_data = split_data(data_fake_news)\n",
    "\n",
    "\n",
    "train_set = pd.concat([real_train_data,fake_train_data]).sample(frac=1.0, random_state=42)\n",
    "val_set = pd.concat([real_val_data,fake_val_data]).sample(frac=1.0, random_state=42)\n",
    "test_set = pd.concat([real_test_data,fake_test_data]).sample(frac=1.0, random_state=42)\n",
    "\n",
    "\n",
    "train_set[:5], val_set[:5], test_set[:5]"
   ],
   "outputs": [
    {
     "data": {
      "text/plain": [
       "(                                        id  \\\n",
       " gossipcop-9541238456  gossipcop-9541238456   \n",
       " gossipcop-9905143937  gossipcop-9905143937   \n",
       " gossipcop-9713275683  gossipcop-9713275683   \n",
       " gossipcop-930681          gossipcop-930681   \n",
       " gossipcop-9186072396  gossipcop-9186072396   \n",
       " \n",
       "                                                                    text label  \n",
       " gossipcop-9541238456  Courtesy of Instagram\\n\\nWhoa! A new report is...  fake  \n",
       " gossipcop-9905143937  Justin is \"absolutely\" a pot smoker, he said i...  fake  \n",
       " gossipcop-9713275683  Advertisement\\n\\nThere are a million reasons t...  fake  \n",
       " gossipcop-930681      Jessica Alba is one grateful birthday girl!\\n\\...  real  \n",
       " gossipcop-9186072396  Season 14 of NBC’s hit singing reality competi...  fake  ,\n",
       "                                         id  \\\n",
       " gossipcop-9446264931  gossipcop-9446264931   \n",
       " gossipcop-9983761608  gossipcop-9983761608   \n",
       " gossipcop-9311146319  gossipcop-9311146319   \n",
       " gossipcop-941658          gossipcop-941658   \n",
       " gossipcop-9507197017  gossipcop-9507197017   \n",
       " \n",
       "                                                                    text label  \n",
       " gossipcop-9446264931  He’s the man with the Midas touch! But instead...  fake  \n",
       " gossipcop-9983761608  Source: BACKGRID\\n\\nStick-thin Jim Carrey is w...  fake  \n",
       " gossipcop-9311146319  Something went wrong, please try again later.\\...  fake  \n",
       " gossipcop-941658      Dierks Bentley and Cassidy Black first met in ...  real  \n",
       " gossipcop-9507197017  Jennifer Aniston and Justin Theroux’s marriage...  fake  ,\n",
       "                                 id  \\\n",
       " gossipcop-927379  gossipcop-927379   \n",
       " gossipcop-926244  gossipcop-926244   \n",
       " gossipcop-929844  gossipcop-929844   \n",
       " gossipcop-926446  gossipcop-926446   \n",
       " gossipcop-904303  gossipcop-904303   \n",
       " \n",
       "                                                                text label  \n",
       " gossipcop-927379  On Thursday, April 12, Khloé Kardashian gave b...  real  \n",
       " gossipcop-926244  Amber Heard stayed true to her word and donate...  real  \n",
       " gossipcop-929844  On the show, though, June is so special that h...  real  \n",
       " gossipcop-926446  There are many innuendos to the female form in...  real  \n",
       " gossipcop-904303  After explaining his journey with The Disaster...  real  )"
      ]
     },
     "execution_count": 23,
     "metadata": {},
     "output_type": "execute_result"
    }
   ],
   "execution_count": 23
  },
  {
   "cell_type": "code",
   "metadata": {
    "ExecuteTime": {
     "end_time": "2024-07-25T09:00:07.462769Z",
     "start_time": "2024-07-25T09:00:07.454294Z"
    }
   },
   "source": "train_set.to_json(\"./gossipcop_v3_keep_data_in_proper_length_train.json\", orient=\"records\", indent=4,)",
   "outputs": [],
   "execution_count": 24
  },
  {
   "cell_type": "code",
   "metadata": {
    "ExecuteTime": {
     "end_time": "2024-07-25T09:00:10.770252Z",
     "start_time": "2024-07-25T09:00:10.761535Z"
    }
   },
   "source": "val_set.to_json(\"./gossipcop_v3_keep_data_in_proper_length_valid.json\", orient=\"records\", indent=4,)",
   "outputs": [],
   "execution_count": 25
  },
  {
   "metadata": {
    "ExecuteTime": {
     "end_time": "2024-07-25T09:00:12.348034Z",
     "start_time": "2024-07-25T09:00:12.256630Z"
    }
   },
   "cell_type": "code",
   "source": "test_set.to_json(\"./gossipcop_v3_keep_data_in_proper_length_test.json\", orient=\"records\", indent=4,)",
   "outputs": [],
   "execution_count": 26
  },
  {
   "cell_type": "code",
   "execution_count": 8,
   "metadata": {},
   "outputs": [],
   "source": [
    "\n",
    "df_train = pd.read_json(\"/mnt/c/Users/1/PycharmProjects/CSFND_yanjie/gossipcop_dataset/gossipcop_v3-1_style_based_fake_train.json\")"
   ]
  },
  {
   "cell_type": "code",
   "execution_count": 9,
   "metadata": {},
   "outputs": [
    {
     "data": {
      "text/plain": [
       "0       ../gossipcop_dataset/top_img/gossipcop-917567.png\n",
       "1       ../gossipcop_dataset/top_img/gossipcop-4575106...\n",
       "2       ../gossipcop_dataset/top_img/gossipcop-852580.png\n",
       "3       ../gossipcop_dataset/top_img/gossipcop-842391.png\n",
       "4       ../gossipcop_dataset/top_img/gossipcop-884638.png\n",
       "                              ...                        \n",
       "9860    ../gossipcop_dataset/top_img/gossipcop-897503.png\n",
       "9861    ../gossipcop_dataset/top_img/gossipcop-887194.png\n",
       "9862    ../gossipcop_dataset/top_img/gossipcop-916489.png\n",
       "9863    ../gossipcop_dataset/top_img/gossipcop-8862742...\n",
       "9864    ../gossipcop_dataset/top_img/gossipcop-902143.png\n",
       "Name: origin_id, Length: 9865, dtype: object"
      ]
     },
     "execution_count": 9,
     "metadata": {},
     "output_type": "execute_result"
    }
   ],
   "source": [
    "corpus_dir = '../gossipcop_dataset'\n",
    "img_dir = \"top_img\"\n",
    "import os \n",
    "df_train[\"origin_id\"].map(lambda x: corpus_dir+\"/\"+img_dir+\"/\" + str(x)+\".png\")"
   ]
  },
  {
   "cell_type": "code",
   "execution_count": 10,
   "metadata": {},
   "outputs": [],
   "source": [
    "from PIL import Image\n",
    "from torchvision import transforms\n",
    "def picture_filter(im_path):\n",
    "    im = Image.open(im_path, 'r').convert('RGB')\n",
    "    trans = transforms.Compose([\n",
    "        transforms.Resize((224, 224)),\n",
    "        transforms.ToTensor(),\n",
    "        transforms.Normalize(mean=[0.485, 0.456, 0.406], std=[0.229, 0.224, 0.225])\n",
    "    ])\n",
    "    im = trans(im)  # type is tensor\n",
    "\n",
    "    return im"
   ]
  },
  {
   "cell_type": "code",
   "execution_count": 11,
   "metadata": {},
   "outputs": [],
   "source": [
    "img_list_path = df_train[\"origin_id\"].map(lambda x: img_dir+\"/\" + str(x)+\"_top_img.png\").tolist()"
   ]
  },
  {
   "cell_type": "code",
   "execution_count": 16,
   "metadata": {},
   "outputs": [
    {
     "name": "stderr",
     "output_type": "stream",
     "text": [
      "/usr/local/miniconda3/envs/yj_c2dsr/lib/python3.7/site-packages/PIL/Image.py:3170: DecompressionBombWarning: Image size (96000000 pixels) exceeds limit of 89478485 pixels, could be decompression bomb DOS attack.\n",
      "  DecompressionBombWarning,\n",
      "/usr/local/miniconda3/envs/yj_c2dsr/lib/python3.7/site-packages/PIL/Image.py:997: UserWarning: Palette images with Transparency expressed in bytes should be converted to RGBA images\n",
      "  \"Palette images with Transparency expressed in bytes should be \"\n"
     ]
    }
   ],
   "source": [
    "img_list_path\n",
    "for i in img_list_path:\n",
    "    try:\n",
    "        im = Image.open(i, 'r').convert('RGB')\n",
    "    except Exception as e:\n",
    "        print(e, i)"
   ]
  },
  {
   "cell_type": "code",
   "execution_count": 14,
   "metadata": {},
   "outputs": [
    {
     "data": {
      "text/html": [
       "<div>\n",
       "<style scoped>\n",
       "    .dataframe tbody tr th:only-of-type {\n",
       "        vertical-align: middle;\n",
       "    }\n",
       "\n",
       "    .dataframe tbody tr th {\n",
       "        vertical-align: top;\n",
       "    }\n",
       "\n",
       "    .dataframe thead th {\n",
       "        text-align: right;\n",
       "    }\n",
       "</style>\n",
       "<table border=\"1\" class=\"dataframe\">\n",
       "  <thead>\n",
       "    <tr style=\"text-align: right;\">\n",
       "      <th></th>\n",
       "      <th>origin_id</th>\n",
       "      <th>origin_text</th>\n",
       "      <th>generated_text</th>\n",
       "      <th>generated_label</th>\n",
       "    </tr>\n",
       "  </thead>\n",
       "  <tbody>\n",
       "    <tr>\n",
       "      <th>0</th>\n",
       "      <td>gossipcop-7572618844</td>\n",
       "      <td>WASHINGTON — And on the 132nd day, just after ...</td>\n",
       "      <td>On the 132nd day of his presidency, President ...</td>\n",
       "      <td>fake</td>\n",
       "    </tr>\n",
       "    <tr>\n",
       "      <th>1</th>\n",
       "      <td>gossipcop-6378885694</td>\n",
       "      <td>The father of one of the world's biggest stars...</td>\n",
       "      <td>The father of Lady Gaga, known professionally ...</td>\n",
       "      <td>fake</td>\n",
       "    </tr>\n",
       "    <tr>\n",
       "      <th>2</th>\n",
       "      <td>gossipcop-909478</td>\n",
       "      <td>Eva Marcille joined The Real Housewives of Atl...</td>\n",
       "      <td>The Real Housewives of Atlanta has never been ...</td>\n",
       "      <td>real</td>\n",
       "    </tr>\n",
       "    <tr>\n",
       "      <th>3</th>\n",
       "      <td>gossipcop-928269</td>\n",
       "      <td>Social media reacts to the death of former Pre...</td>\n",
       "      <td>In a shocking turn of events, former US Presid...</td>\n",
       "      <td>real</td>\n",
       "    </tr>\n",
       "    <tr>\n",
       "      <th>4</th>\n",
       "      <td>gossipcop-924061</td>\n",
       "      <td>Her rumoured ex Justin Bieber recently announc...</td>\n",
       "      <td>Oh, how my heart aches for her. Baskin Champio...</td>\n",
       "      <td>real</td>\n",
       "    </tr>\n",
       "    <tr>\n",
       "      <th>...</th>\n",
       "      <td>...</td>\n",
       "      <td>...</td>\n",
       "      <td>...</td>\n",
       "      <td>...</td>\n",
       "    </tr>\n",
       "    <tr>\n",
       "      <th>2462</th>\n",
       "      <td>gossipcop-850428</td>\n",
       "      <td>Girl culture didn’t exactly have a banner year...</td>\n",
       "      <td>\"Mean Girls\" Musical Returns with a Twist: Can...</td>\n",
       "      <td>real</td>\n",
       "    </tr>\n",
       "    <tr>\n",
       "      <th>2463</th>\n",
       "      <td>gossipcop-860551</td>\n",
       "      <td>Julia Stiles and fiancé Preston J. Cook have t...</td>\n",
       "      <td>\"Bourne\" actress Julia Stiles and her actor/ca...</td>\n",
       "      <td>real</td>\n",
       "    </tr>\n",
       "    <tr>\n",
       "      <th>2464</th>\n",
       "      <td>gossipcop-922801</td>\n",
       "      <td>Trouble continues to brew for Russell Simmons,...</td>\n",
       "      <td>\"Russell Simmons Accused of Rape in New Lawsui...</td>\n",
       "      <td>real</td>\n",
       "    </tr>\n",
       "    <tr>\n",
       "      <th>2465</th>\n",
       "      <td>gossipcop-7704079622</td>\n",
       "      <td>The Israeli actress, Gal Gadot, who enjoyed a ...</td>\n",
       "      <td>Gal Gadot, the Israeli actress who gained popu...</td>\n",
       "      <td>fake</td>\n",
       "    </tr>\n",
       "    <tr>\n",
       "      <th>2466</th>\n",
       "      <td>gossipcop-903238</td>\n",
       "      <td>01 of 15 Instagram/ @iambeckyg Becky G is not ...</td>\n",
       "      <td>1. Becky G, the pop sensation and singer-songw...</td>\n",
       "      <td>real</td>\n",
       "    </tr>\n",
       "  </tbody>\n",
       "</table>\n",
       "<p>2467 rows × 4 columns</p>\n",
       "</div>"
      ],
      "text/plain": [
       "                 origin_id                                        origin_text  \\\n",
       "0     gossipcop-7572618844  WASHINGTON — And on the 132nd day, just after ...   \n",
       "1     gossipcop-6378885694  The father of one of the world's biggest stars...   \n",
       "2         gossipcop-909478  Eva Marcille joined The Real Housewives of Atl...   \n",
       "3         gossipcop-928269  Social media reacts to the death of former Pre...   \n",
       "4         gossipcop-924061  Her rumoured ex Justin Bieber recently announc...   \n",
       "...                    ...                                                ...   \n",
       "2462      gossipcop-850428  Girl culture didn’t exactly have a banner year...   \n",
       "2463      gossipcop-860551  Julia Stiles and fiancé Preston J. Cook have t...   \n",
       "2464      gossipcop-922801  Trouble continues to brew for Russell Simmons,...   \n",
       "2465  gossipcop-7704079622  The Israeli actress, Gal Gadot, who enjoyed a ...   \n",
       "2466      gossipcop-903238  01 of 15 Instagram/ @iambeckyg Becky G is not ...   \n",
       "\n",
       "                                         generated_text generated_label  \n",
       "0     On the 132nd day of his presidency, President ...            fake  \n",
       "1     The father of Lady Gaga, known professionally ...            fake  \n",
       "2     The Real Housewives of Atlanta has never been ...            real  \n",
       "3     In a shocking turn of events, former US Presid...            real  \n",
       "4     Oh, how my heart aches for her. Baskin Champio...            real  \n",
       "...                                                 ...             ...  \n",
       "2462  \"Mean Girls\" Musical Returns with a Twist: Can...            real  \n",
       "2463  \"Bourne\" actress Julia Stiles and her actor/ca...            real  \n",
       "2464  \"Russell Simmons Accused of Rape in New Lawsui...            real  \n",
       "2465  Gal Gadot, the Israeli actress who gained popu...            fake  \n",
       "2466  1. Becky G, the pop sensation and singer-songw...            real  \n",
       "\n",
       "[2467 rows x 4 columns]"
      ]
     },
     "execution_count": 14,
     "metadata": {},
     "output_type": "execute_result"
    }
   ],
   "source": [
    "test_set = pd.read_json(\"/mnt/c/Users/1/PycharmProjects/CSFND_yanjie/gossipcop_dataset/gossipcop_v3-1_style_based_fake_test.json\")\n",
    "test_set"
   ]
  },
  {
   "cell_type": "code",
   "execution_count": 15,
   "metadata": {},
   "outputs": [
    {
     "name": "stdout",
     "output_type": "stream",
     "text": [
      "cannot identify image file 'top_img/gossipcop-1202546208_top_img.png' top_img/gossipcop-1202546208_top_img.png\n"
     ]
    }
   ],
   "source": [
    "# 检查是否能打开？\n",
    "test_image_path = test_set[\"origin_id\"].map(lambda x: img_dir+\"/\" + str(x)+\"_top_img.png\").tolist()\n",
    "test_image_path\n",
    "\n",
    "for i in test_image_path:\n",
    "    try:\n",
    "        im = Image.open(i, 'r').convert('RGB')\n",
    "    except Exception as e:\n",
    "        print(e, i)"
   ]
  },
  {
   "cell_type": "code",
   "execution_count": 17,
   "metadata": {},
   "outputs": [
    {
     "data": {
      "text/html": [
       "<div>\n",
       "<style scoped>\n",
       "    .dataframe tbody tr th:only-of-type {\n",
       "        vertical-align: middle;\n",
       "    }\n",
       "\n",
       "    .dataframe tbody tr th {\n",
       "        vertical-align: top;\n",
       "    }\n",
       "\n",
       "    .dataframe thead th {\n",
       "        text-align: right;\n",
       "    }\n",
       "</style>\n",
       "<table border=\"1\" class=\"dataframe\">\n",
       "  <thead>\n",
       "    <tr style=\"text-align: right;\">\n",
       "      <th></th>\n",
       "      <th>origin_id</th>\n",
       "      <th>origin_text</th>\n",
       "      <th>generated_text</th>\n",
       "      <th>generated_label</th>\n",
       "    </tr>\n",
       "  </thead>\n",
       "  <tbody>\n",
       "    <tr>\n",
       "      <th>2450</th>\n",
       "      <td>gossipcop-1202546208</td>\n",
       "      <td>Friday, February 17, 2017 6:55am ET by Newsdes...</td>\n",
       "      <td>On February 17, 2017, Britain's Daily Mail new...</td>\n",
       "      <td>fake</td>\n",
       "    </tr>\n",
       "  </tbody>\n",
       "</table>\n",
       "</div>"
      ],
      "text/plain": [
       "                 origin_id                                        origin_text  \\\n",
       "2450  gossipcop-1202546208  Friday, February 17, 2017 6:55am ET by Newsdes...   \n",
       "\n",
       "                                         generated_text generated_label  \n",
       "2450  On February 17, 2017, Britain's Daily Mail new...            fake  "
      ]
     },
     "execution_count": 17,
     "metadata": {},
     "output_type": "execute_result"
    }
   ],
   "source": [
    "test_set[test_set.origin_id == \"gossipcop-1202546208\"]"
   ]
  },
  {
   "cell_type": "code",
   "execution_count": 18,
   "metadata": {},
   "outputs": [],
   "source": [
    "# 删除这个数据，由于这个图片打不开\n",
    "afer_drop_test = test_set[test_set.origin_id != \"gossipcop-1202546208\"]"
   ]
  },
  {
   "cell_type": "code",
   "execution_count": 19,
   "metadata": {},
   "outputs": [],
   "source": "afer_drop_test.to_json(\"/mnt/c/Users/1/PycharmProjects/CSFND_yanjie/gossipcop_dataset/gossipcop_v3-1_style_based_fake_test.json\", orient=\"records\", indent=4,)"
  }
 ],
 "metadata": {
  "kernelspec": {
   "display_name": "yj_c2dsr",
   "language": "python",
   "name": "python3"
  },
  "language_info": {
   "codemirror_mode": {
    "name": "ipython",
    "version": 3
   },
   "file_extension": ".py",
   "mimetype": "text/x-python",
   "name": "python",
   "nbconvert_exporter": "python",
   "pygments_lexer": "ipython3",
   "version": "3.7.9"
  }
 },
 "nbformat": 4,
 "nbformat_minor": 2
}
