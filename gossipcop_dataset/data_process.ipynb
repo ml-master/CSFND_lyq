{
 "cells": [
  {
   "cell_type": "code",
   "metadata": {
    "ExecuteTime": {
     "end_time": "2024-07-26T05:27:14.915378Z",
     "start_time": "2024-07-26T05:27:14.551075Z"
    }
   },
   "source": [
    "import pandas as pd\n",
    "import numpy as np\n",
    "import os\n",
    "import json "
   ],
   "outputs": [],
   "execution_count": 1
  },
  {
   "cell_type": "code",
   "metadata": {
    "ExecuteTime": {
     "end_time": "2024-07-26T05:27:27.670459Z",
     "start_time": "2024-07-26T05:27:26.834169Z"
    }
   },
   "source": [
    "style_fake_data = pd.read_json(\"./gossipcop_v3-1_style_based_fake.json\",orient='index')\n",
    "style_fake_data"
   ],
   "outputs": [
    {
     "data": {
      "text/plain": [
       "                                 origin_id origin_label  \\\n",
       "gossipcop-2493749932  gossipcop-2493749932         fake   \n",
       "gossipcop-4580247171  gossipcop-4580247171         fake   \n",
       "gossipcop-941805037    gossipcop-941805037         fake   \n",
       "gossipcop-2547891536  gossipcop-2547891536         fake   \n",
       "gossipcop-5189580095  gossipcop-5189580095         fake   \n",
       "...                                    ...          ...   \n",
       "gossipcop-907293          gossipcop-907293   legitimate   \n",
       "gossipcop-891749          gossipcop-891749   legitimate   \n",
       "gossipcop-941486          gossipcop-941486   legitimate   \n",
       "gossipcop-953143          gossipcop-953143   legitimate   \n",
       "gossipcop-877062          gossipcop-877062   legitimate   \n",
       "\n",
       "                                                            origin_text  \\\n",
       "gossipcop-2493749932  Congratulations might be in order for Miley Cy...   \n",
       "gossipcop-4580247171  Paris Jackson and Cara Delevingne were spotted...   \n",
       "gossipcop-941805037   Thousands are taking the streets to protest Pr...   \n",
       "gossipcop-2547891536  We'd venture to say that Cindy Crawford's daug...   \n",
       "gossipcop-5189580095  During the summer of 1995, John F. Kennedy Jr....   \n",
       "...                                                                 ...   \n",
       "gossipcop-907293      Gigi & Zayn Gave Us the Best Idea For a Valent...   \n",
       "gossipcop-891749      2017 Hollywood Film Awards ceremony took place...   \n",
       "gossipcop-941486      Jada Pinkett Smith recalled that heartbreaking...   \n",
       "gossipcop-953143      Another one of Luann de Lesseps' Real Housewiv...   \n",
       "gossipcop-877062      After last week's shock announcement that Kyli...   \n",
       "\n",
       "                                                         generated_text  \\\n",
       "gossipcop-2493749932  According to recent reports, Miley Cyrus and L...   \n",
       "gossipcop-4580247171  Paris Jackson and Cara Delevingne were seen to...   \n",
       "gossipcop-941805037   On Tax Day, thousands of people took to the st...   \n",
       "gossipcop-2547891536  Kaia Gerber, the 14-year-old daughter of super...   \n",
       "gossipcop-5189580095  In the summer of 1995, John F. Kennedy Jr. sec...   \n",
       "...                                                                 ...   \n",
       "gossipcop-907293      \"OMG, Gigi & Zayn's Valentine's Day Gift Idea ...   \n",
       "gossipcop-891749      \"The 2017 Hollywood Film Awards ceremony, the ...   \n",
       "gossipcop-941486      EXCLUSIVE: Jada Pinkett Smith reveals heart-wr...   \n",
       "gossipcop-953143      \"SHOCKER! Real Housewives Star Luann de Lessep...   \n",
       "gossipcop-877062      \"OMG, Kylie Jenner Just Gave Birth to a Butter...   \n",
       "\n",
       "                                          generated_tone generated_label  \\\n",
       "gossipcop-2493749932  an objective and professional tone            fake   \n",
       "gossipcop-4580247171                      a neutral tone            fake   \n",
       "gossipcop-941805037                       a neutral tone            fake   \n",
       "gossipcop-2547891536  an objective and professional tone            fake   \n",
       "gossipcop-5189580095                      a neutral tone            fake   \n",
       "...                                                  ...             ...   \n",
       "gossipcop-907293                      a sensational tone            fake   \n",
       "gossipcop-891749                      a sensational tone            fake   \n",
       "gossipcop-941486                      a sensational tone            fake   \n",
       "gossipcop-953143                      a sensational tone            fake   \n",
       "gossipcop-877062                      a sensational tone            fake   \n",
       "\n",
       "                      has_top_img  \n",
       "gossipcop-2493749932            0  \n",
       "gossipcop-4580247171            0  \n",
       "gossipcop-941805037             0  \n",
       "gossipcop-2547891536            0  \n",
       "gossipcop-5189580095            0  \n",
       "...                           ...  \n",
       "gossipcop-907293                0  \n",
       "gossipcop-891749                0  \n",
       "gossipcop-941486                0  \n",
       "gossipcop-953143                0  \n",
       "gossipcop-877062                0  \n",
       "\n",
       "[15729 rows x 7 columns]"
      ],
      "text/html": [
       "<div>\n",
       "<style scoped>\n",
       "    .dataframe tbody tr th:only-of-type {\n",
       "        vertical-align: middle;\n",
       "    }\n",
       "\n",
       "    .dataframe tbody tr th {\n",
       "        vertical-align: top;\n",
       "    }\n",
       "\n",
       "    .dataframe thead th {\n",
       "        text-align: right;\n",
       "    }\n",
       "</style>\n",
       "<table border=\"1\" class=\"dataframe\">\n",
       "  <thead>\n",
       "    <tr style=\"text-align: right;\">\n",
       "      <th></th>\n",
       "      <th>origin_id</th>\n",
       "      <th>origin_label</th>\n",
       "      <th>origin_text</th>\n",
       "      <th>generated_text</th>\n",
       "      <th>generated_tone</th>\n",
       "      <th>generated_label</th>\n",
       "      <th>has_top_img</th>\n",
       "    </tr>\n",
       "  </thead>\n",
       "  <tbody>\n",
       "    <tr>\n",
       "      <th>gossipcop-2493749932</th>\n",
       "      <td>gossipcop-2493749932</td>\n",
       "      <td>fake</td>\n",
       "      <td>Congratulations might be in order for Miley Cy...</td>\n",
       "      <td>According to recent reports, Miley Cyrus and L...</td>\n",
       "      <td>an objective and professional tone</td>\n",
       "      <td>fake</td>\n",
       "      <td>0</td>\n",
       "    </tr>\n",
       "    <tr>\n",
       "      <th>gossipcop-4580247171</th>\n",
       "      <td>gossipcop-4580247171</td>\n",
       "      <td>fake</td>\n",
       "      <td>Paris Jackson and Cara Delevingne were spotted...</td>\n",
       "      <td>Paris Jackson and Cara Delevingne were seen to...</td>\n",
       "      <td>a neutral tone</td>\n",
       "      <td>fake</td>\n",
       "      <td>0</td>\n",
       "    </tr>\n",
       "    <tr>\n",
       "      <th>gossipcop-941805037</th>\n",
       "      <td>gossipcop-941805037</td>\n",
       "      <td>fake</td>\n",
       "      <td>Thousands are taking the streets to protest Pr...</td>\n",
       "      <td>On Tax Day, thousands of people took to the st...</td>\n",
       "      <td>a neutral tone</td>\n",
       "      <td>fake</td>\n",
       "      <td>0</td>\n",
       "    </tr>\n",
       "    <tr>\n",
       "      <th>gossipcop-2547891536</th>\n",
       "      <td>gossipcop-2547891536</td>\n",
       "      <td>fake</td>\n",
       "      <td>We'd venture to say that Cindy Crawford's daug...</td>\n",
       "      <td>Kaia Gerber, the 14-year-old daughter of super...</td>\n",
       "      <td>an objective and professional tone</td>\n",
       "      <td>fake</td>\n",
       "      <td>0</td>\n",
       "    </tr>\n",
       "    <tr>\n",
       "      <th>gossipcop-5189580095</th>\n",
       "      <td>gossipcop-5189580095</td>\n",
       "      <td>fake</td>\n",
       "      <td>During the summer of 1995, John F. Kennedy Jr....</td>\n",
       "      <td>In the summer of 1995, John F. Kennedy Jr. sec...</td>\n",
       "      <td>a neutral tone</td>\n",
       "      <td>fake</td>\n",
       "      <td>0</td>\n",
       "    </tr>\n",
       "    <tr>\n",
       "      <th>...</th>\n",
       "      <td>...</td>\n",
       "      <td>...</td>\n",
       "      <td>...</td>\n",
       "      <td>...</td>\n",
       "      <td>...</td>\n",
       "      <td>...</td>\n",
       "      <td>...</td>\n",
       "    </tr>\n",
       "    <tr>\n",
       "      <th>gossipcop-907293</th>\n",
       "      <td>gossipcop-907293</td>\n",
       "      <td>legitimate</td>\n",
       "      <td>Gigi &amp; Zayn Gave Us the Best Idea For a Valent...</td>\n",
       "      <td>\"OMG, Gigi &amp; Zayn's Valentine's Day Gift Idea ...</td>\n",
       "      <td>a sensational tone</td>\n",
       "      <td>fake</td>\n",
       "      <td>0</td>\n",
       "    </tr>\n",
       "    <tr>\n",
       "      <th>gossipcop-891749</th>\n",
       "      <td>gossipcop-891749</td>\n",
       "      <td>legitimate</td>\n",
       "      <td>2017 Hollywood Film Awards ceremony took place...</td>\n",
       "      <td>\"The 2017 Hollywood Film Awards ceremony, the ...</td>\n",
       "      <td>a sensational tone</td>\n",
       "      <td>fake</td>\n",
       "      <td>0</td>\n",
       "    </tr>\n",
       "    <tr>\n",
       "      <th>gossipcop-941486</th>\n",
       "      <td>gossipcop-941486</td>\n",
       "      <td>legitimate</td>\n",
       "      <td>Jada Pinkett Smith recalled that heartbreaking...</td>\n",
       "      <td>EXCLUSIVE: Jada Pinkett Smith reveals heart-wr...</td>\n",
       "      <td>a sensational tone</td>\n",
       "      <td>fake</td>\n",
       "      <td>0</td>\n",
       "    </tr>\n",
       "    <tr>\n",
       "      <th>gossipcop-953143</th>\n",
       "      <td>gossipcop-953143</td>\n",
       "      <td>legitimate</td>\n",
       "      <td>Another one of Luann de Lesseps' Real Housewiv...</td>\n",
       "      <td>\"SHOCKER! Real Housewives Star Luann de Lessep...</td>\n",
       "      <td>a sensational tone</td>\n",
       "      <td>fake</td>\n",
       "      <td>0</td>\n",
       "    </tr>\n",
       "    <tr>\n",
       "      <th>gossipcop-877062</th>\n",
       "      <td>gossipcop-877062</td>\n",
       "      <td>legitimate</td>\n",
       "      <td>After last week's shock announcement that Kyli...</td>\n",
       "      <td>\"OMG, Kylie Jenner Just Gave Birth to a Butter...</td>\n",
       "      <td>a sensational tone</td>\n",
       "      <td>fake</td>\n",
       "      <td>0</td>\n",
       "    </tr>\n",
       "  </tbody>\n",
       "</table>\n",
       "<p>15729 rows × 7 columns</p>\n",
       "</div>"
      ]
     },
     "execution_count": 2,
     "metadata": {},
     "output_type": "execute_result"
    }
   ],
   "execution_count": 2
  },
  {
   "cell_type": "code",
   "metadata": {
    "ExecuteTime": {
     "end_time": "2024-07-26T05:27:29.524907Z",
     "start_time": "2024-07-26T05:27:29.516973Z"
    }
   },
   "source": [
    "\n",
    "tones = set(style_fake_data.generated_tone.unique())\n",
    "tones"
   ],
   "outputs": [
    {
     "data": {
      "text/plain": [
       "{'a neutral tone',\n",
       " 'a sensational tone',\n",
       " 'an emotionally triggering tone',\n",
       " 'an objective and professional tone'}"
      ]
     },
     "execution_count": 3,
     "metadata": {},
     "output_type": "execute_result"
    }
   ],
   "execution_count": 3
  },
  {
   "cell_type": "code",
   "metadata": {
    "ExecuteTime": {
     "end_time": "2024-07-25T03:43:17.515993Z",
     "start_time": "2024-07-25T03:43:14.121562Z"
    }
   },
   "source": [
    "# 1. 过滤掉没有图片的数据\n",
    "def get_all_top_image_id(image_dir_path):\n",
    "    suffix_to_remove = '_top_img.png'\n",
    "    all_items  = os.listdir(image_dir_path)\n",
    "    top_image_ids = {item.rstrip(suffix_to_remove) for item in all_items if os.path.isfile(os.path.join(image_dir_path, item)) and item.endswith(suffix_to_remove)}\n",
    "    return top_image_ids\n",
    "\n",
    "def filter_data(data,image_dir_path):\n",
    "    top_image_ids = get_all_top_image_id(image_dir_path)\n",
    "    print(len(top_image_ids))\n",
    "    has_top_img_list = [id in top_image_ids for id in data.origin_id]\n",
    "    return data[has_top_img_list]\n",
    "    \n",
    "filter_data = filter_data(style_fake_data,'top_img')\n",
    "# 2. 只保留文本ID  图片ID 修改后的文本内容 图片 标签\n",
    "keep_data = filter_data[[\"origin_id\",\"origin_text\",\"generated_text\",\"generated_label\"]]\n",
    "keep_data\n"
   ],
   "outputs": [
    {
     "name": "stdout",
     "output_type": "stream",
     "text": [
      "4699\n"
     ]
    },
    {
     "data": {
      "text/plain": [
       "                                 origin_id  \\\n",
       "gossipcop-941805037    gossipcop-941805037   \n",
       "gossipcop-9588339534  gossipcop-9588339534   \n",
       "gossipcop-9878194459  gossipcop-9878194459   \n",
       "gossipcop-9521617242  gossipcop-9521617242   \n",
       "gossipcop-8996311550  gossipcop-8996311550   \n",
       "...                                    ...   \n",
       "gossipcop-899716          gossipcop-899716   \n",
       "gossipcop-910016          gossipcop-910016   \n",
       "gossipcop-907293          gossipcop-907293   \n",
       "gossipcop-941486          gossipcop-941486   \n",
       "gossipcop-953143          gossipcop-953143   \n",
       "\n",
       "                                                            origin_text  \\\n",
       "gossipcop-941805037   Thousands are taking the streets to protest Pr...   \n",
       "gossipcop-9588339534  Many stars saw great success in 2016, but the ...   \n",
       "gossipcop-9878194459  So while the internet is busy obsessing over J...   \n",
       "gossipcop-9521617242  Next stop on the 2018 award season train? The ...   \n",
       "gossipcop-8996311550  A new survey conducted by the British Heart Fo...   \n",
       "...                                                                 ...   \n",
       "gossipcop-899716      Maeve McDermott\\n\\nUSA TODAY\\n\\nJada Pinkett S...   \n",
       "gossipcop-910016      TechCrunch\\n\\nOmidyar Network, backed by eBay ...   \n",
       "gossipcop-907293      Gigi & Zayn Gave Us the Best Idea For a Valent...   \n",
       "gossipcop-941486      Jada Pinkett Smith recalled that heartbreaking...   \n",
       "gossipcop-953143      Another one of Luann de Lesseps' Real Housewiv...   \n",
       "\n",
       "                                                         generated_text  \\\n",
       "gossipcop-941805037   On Tax Day, thousands of people took to the st...   \n",
       "gossipcop-9588339534  In 2016, several celebrities faced major contr...   \n",
       "gossipcop-9878194459  Selena Gomez was seen enjoying herself on a ya...   \n",
       "gossipcop-9521617242  The 2018 Critics' Choice Awards ceremony, an a...   \n",
       "gossipcop-8996311550  The British Heart Foundation has conducted a s...   \n",
       "...                                                                 ...   \n",
       "gossipcop-899716      Jada Pinkett Smith is OUTRAGED over the Hollyw...   \n",
       "gossipcop-910016      The world is reeling as Omidyar Network, a ven...   \n",
       "gossipcop-907293      \"OMG, Gigi & Zayn's Valentine's Day Gift Idea ...   \n",
       "gossipcop-941486      EXCLUSIVE: Jada Pinkett Smith reveals heart-wr...   \n",
       "gossipcop-953143      \"SHOCKER! Real Housewives Star Luann de Lessep...   \n",
       "\n",
       "                     generated_label  \n",
       "gossipcop-941805037             fake  \n",
       "gossipcop-9588339534            fake  \n",
       "gossipcop-9878194459            fake  \n",
       "gossipcop-9521617242            fake  \n",
       "gossipcop-8996311550            fake  \n",
       "...                              ...  \n",
       "gossipcop-899716                fake  \n",
       "gossipcop-910016                fake  \n",
       "gossipcop-907293                fake  \n",
       "gossipcop-941486                fake  \n",
       "gossipcop-953143                fake  \n",
       "\n",
       "[4699 rows x 4 columns]"
      ],
      "text/html": [
       "<div>\n",
       "<style scoped>\n",
       "    .dataframe tbody tr th:only-of-type {\n",
       "        vertical-align: middle;\n",
       "    }\n",
       "\n",
       "    .dataframe tbody tr th {\n",
       "        vertical-align: top;\n",
       "    }\n",
       "\n",
       "    .dataframe thead th {\n",
       "        text-align: right;\n",
       "    }\n",
       "</style>\n",
       "<table border=\"1\" class=\"dataframe\">\n",
       "  <thead>\n",
       "    <tr style=\"text-align: right;\">\n",
       "      <th></th>\n",
       "      <th>origin_id</th>\n",
       "      <th>origin_text</th>\n",
       "      <th>generated_text</th>\n",
       "      <th>generated_label</th>\n",
       "    </tr>\n",
       "  </thead>\n",
       "  <tbody>\n",
       "    <tr>\n",
       "      <th>gossipcop-941805037</th>\n",
       "      <td>gossipcop-941805037</td>\n",
       "      <td>Thousands are taking the streets to protest Pr...</td>\n",
       "      <td>On Tax Day, thousands of people took to the st...</td>\n",
       "      <td>fake</td>\n",
       "    </tr>\n",
       "    <tr>\n",
       "      <th>gossipcop-9588339534</th>\n",
       "      <td>gossipcop-9588339534</td>\n",
       "      <td>Many stars saw great success in 2016, but the ...</td>\n",
       "      <td>In 2016, several celebrities faced major contr...</td>\n",
       "      <td>fake</td>\n",
       "    </tr>\n",
       "    <tr>\n",
       "      <th>gossipcop-9878194459</th>\n",
       "      <td>gossipcop-9878194459</td>\n",
       "      <td>So while the internet is busy obsessing over J...</td>\n",
       "      <td>Selena Gomez was seen enjoying herself on a ya...</td>\n",
       "      <td>fake</td>\n",
       "    </tr>\n",
       "    <tr>\n",
       "      <th>gossipcop-9521617242</th>\n",
       "      <td>gossipcop-9521617242</td>\n",
       "      <td>Next stop on the 2018 award season train? The ...</td>\n",
       "      <td>The 2018 Critics' Choice Awards ceremony, an a...</td>\n",
       "      <td>fake</td>\n",
       "    </tr>\n",
       "    <tr>\n",
       "      <th>gossipcop-8996311550</th>\n",
       "      <td>gossipcop-8996311550</td>\n",
       "      <td>A new survey conducted by the British Heart Fo...</td>\n",
       "      <td>The British Heart Foundation has conducted a s...</td>\n",
       "      <td>fake</td>\n",
       "    </tr>\n",
       "    <tr>\n",
       "      <th>...</th>\n",
       "      <td>...</td>\n",
       "      <td>...</td>\n",
       "      <td>...</td>\n",
       "      <td>...</td>\n",
       "    </tr>\n",
       "    <tr>\n",
       "      <th>gossipcop-899716</th>\n",
       "      <td>gossipcop-899716</td>\n",
       "      <td>Maeve McDermott\\n\\nUSA TODAY\\n\\nJada Pinkett S...</td>\n",
       "      <td>Jada Pinkett Smith is OUTRAGED over the Hollyw...</td>\n",
       "      <td>fake</td>\n",
       "    </tr>\n",
       "    <tr>\n",
       "      <th>gossipcop-910016</th>\n",
       "      <td>gossipcop-910016</td>\n",
       "      <td>TechCrunch\\n\\nOmidyar Network, backed by eBay ...</td>\n",
       "      <td>The world is reeling as Omidyar Network, a ven...</td>\n",
       "      <td>fake</td>\n",
       "    </tr>\n",
       "    <tr>\n",
       "      <th>gossipcop-907293</th>\n",
       "      <td>gossipcop-907293</td>\n",
       "      <td>Gigi &amp; Zayn Gave Us the Best Idea For a Valent...</td>\n",
       "      <td>\"OMG, Gigi &amp; Zayn's Valentine's Day Gift Idea ...</td>\n",
       "      <td>fake</td>\n",
       "    </tr>\n",
       "    <tr>\n",
       "      <th>gossipcop-941486</th>\n",
       "      <td>gossipcop-941486</td>\n",
       "      <td>Jada Pinkett Smith recalled that heartbreaking...</td>\n",
       "      <td>EXCLUSIVE: Jada Pinkett Smith reveals heart-wr...</td>\n",
       "      <td>fake</td>\n",
       "    </tr>\n",
       "    <tr>\n",
       "      <th>gossipcop-953143</th>\n",
       "      <td>gossipcop-953143</td>\n",
       "      <td>Another one of Luann de Lesseps' Real Housewiv...</td>\n",
       "      <td>\"SHOCKER! Real Housewives Star Luann de Lessep...</td>\n",
       "      <td>fake</td>\n",
       "    </tr>\n",
       "  </tbody>\n",
       "</table>\n",
       "<p>4699 rows × 4 columns</p>\n",
       "</div>"
      ]
     },
     "execution_count": 16,
     "metadata": {},
     "output_type": "execute_result"
    }
   ],
   "execution_count": 16
  },
  {
   "cell_type": "code",
   "metadata": {
    "ExecuteTime": {
     "end_time": "2024-07-25T03:43:41.681054Z",
     "start_time": "2024-07-25T03:43:41.660469Z"
    }
   },
   "source": [
    "keep_data.origin_text.map(lambda x: len(x)).mean(), keep_data.generated_text.map(lambda x: len(x)).mean()"
   ],
   "outputs": [
    {
     "data": {
      "text/plain": [
       "(2434.691423707172, 1608.4969142370717)"
      ]
     },
     "execution_count": 17,
     "metadata": {},
     "output_type": "execute_result"
    }
   ],
   "execution_count": 17
  },
  {
   "cell_type": "code",
   "metadata": {
    "ExecuteTime": {
     "end_time": "2024-07-25T03:43:52.705932Z",
     "start_time": "2024-07-25T03:43:52.694328Z"
    }
   },
   "source": [
    "# 3. 保存到文件中，文本和图像一一对应。\n",
    "# 划分训练和测试数据集，要求训练集和测试集中的正负类的分布差不多，\n",
    "# 其中 文本 ID 和图像ID一致，也对应上文本的存储位置。\n",
    "df_shuffled = keep_data.sample(frac=1.0, random_state=42)\n",
    "\n",
    "# 定义训练集和测试集的比例\n",
    "train_ratio = 0.8  # 训练集比例\n",
    "test_ratio = 1 - train_ratio  # 测试集比例\n",
    "\n",
    "# 计算训练集和测试集的数量\n",
    "num_train_samples = int(len(df_shuffled) * train_ratio)\n",
    "num_test_samples = len(df_shuffled) - num_train_samples\n",
    "\n",
    "# 分割数据集\n",
    "train_set = df_shuffled.iloc[:num_train_samples]\n",
    "test_set = df_shuffled.iloc[num_train_samples:]\n",
    "\n"
   ],
   "outputs": [],
   "execution_count": 18
  },
  {
   "cell_type": "code",
   "metadata": {
    "ExecuteTime": {
     "end_time": "2024-07-25T03:44:02.220730Z",
     "start_time": "2024-07-25T03:44:02.101597Z"
    }
   },
   "source": "train_set.to_json(\"/mnt/c/Users/1/PycharmProjects/CSFND_yanjie/gossipcop_dataset/gossipcop_v3-1_style_based_fake_train.json\", orient=\"records\", indent=4,)",
   "outputs": [],
   "execution_count": 19
  },
  {
   "cell_type": "code",
   "metadata": {
    "ExecuteTime": {
     "end_time": "2024-07-25T03:44:04.092657Z",
     "start_time": "2024-07-25T03:44:04.057446Z"
    }
   },
   "source": "test_set.to_json(\"/mnt/c/Users/1/PycharmProjects/CSFND_yanjie/gossipcop_dataset/gossipcop_v3-1_style_based_fake_test.json\", orient=\"records\", indent=4,)",
   "outputs": [],
   "execution_count": 20
  },
  {
   "cell_type": "code",
   "metadata": {
    "ExecuteTime": {
     "end_time": "2024-07-25T03:44:07.029161Z",
     "start_time": "2024-07-25T03:44:06.895542Z"
    }
   },
   "source": [
    "\n",
    "df_train = pd.read_json(\"/mnt/c/Users/1/PycharmProjects/CSFND_yanjie/gossipcop_dataset/gossipcop_v3-1_style_based_fake_train.json\")"
   ],
   "outputs": [],
   "execution_count": 21
  },
  {
   "metadata": {},
   "cell_type": "code",
   "outputs": [],
   "execution_count": null,
   "source": ""
  }
 ],
 "metadata": {
  "kernelspec": {
   "display_name": "yj_c2dsr",
   "language": "python",
   "name": "python3"
  },
  "language_info": {
   "codemirror_mode": {
    "name": "ipython",
    "version": 3
   },
   "file_extension": ".py",
   "mimetype": "text/x-python",
   "name": "python",
   "nbconvert_exporter": "python",
   "pygments_lexer": "ipython3",
   "version": "3.7.9"
  }
 },
 "nbformat": 4,
 "nbformat_minor": 2
}
